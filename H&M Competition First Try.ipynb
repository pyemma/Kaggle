{
 "cells": [
  {
   "cell_type": "code",
   "execution_count": null,
   "id": "78c6e6c9",
   "metadata": {},
   "outputs": [],
   "source": [
    "# This Python 3 environment comes with many helpful analytics libraries installed\n",
    "# It is defined by the kaggle/python Docker image: https://github.com/kaggle/docker-python\n",
    "# For example, here's several helpful packages to load\n",
    "\n",
    "import numpy as np # linear algebra\n",
    "import pandas as pd # data processing, CSV file I/O (e.g. pd.read_csv)\n",
    "\n",
    "# Input data files are available in the read-only \"../input/\" directory\n",
    "# For example, running this (by clicking run or pressing Shift+Enter) will list all files under the input directory\n",
    "\n",
    "import os\n",
    "# for dirname, _, filenames in os.walk('/kaggle/input'):\n",
    "#     for filename in filenames:\n",
    "#         print(os.path.join(dirname, filename))\n",
    "\n",
    "# You can write up to 20GB to the current directory (/kaggle/working/) that gets preserved as output when you create a version using \"Save & Run All\" \n",
    "# You can also write temporary files to /kaggle/temp/, but they won't be saved outside of the current session"
   ]
  },
  {
   "cell_type": "code",
   "execution_count": null,
   "id": "57b8156a",
   "metadata": {},
   "outputs": [],
   "source": [
    "import torchvision.models as models\n",
    "import torch\n",
    "import torch.nn as nn\n",
    "import torch.optim as optim\n",
    "from torchvision import datasets, models, transforms\n",
    "\n",
    "from sklearn.neighbors import NearestNeighbors"
   ]
  },
  {
   "cell_type": "code",
   "execution_count": null,
   "id": "23089f75",
   "metadata": {},
   "outputs": [],
   "source": [
    "all_embeddings = torch.load('all_embeddings.pt')\n",
    "all_embeddings = torch.tensor(all_embeddings)"
   ]
  },
  {
   "cell_type": "code",
   "execution_count": null,
   "id": "2e01b8cb",
   "metadata": {},
   "outputs": [],
   "source": [
    "nbrs = NearestNeighbors(n_neighbors=12, algorithm='ball_tree').fit(all_embeddings)"
   ]
  },
  {
   "cell_type": "markdown",
   "id": "97c20dd4",
   "metadata": {},
   "source": [
    "As for now, we have identified the embeddings for each article, and created the nn classifier. The next step is to find the neighbors for each of the articles"
   ]
  },
  {
   "cell_type": "code",
   "execution_count": null,
   "id": "77a0d831",
   "metadata": {},
   "outputs": [],
   "source": [
    "# NOTICE: Time consuming, it would take around 105 * 80s, do not run this unless you are sure\n",
    "\n",
    "import time\n",
    "\n",
    "result = []\n",
    "\n",
    "for i in range(0, 105):\n",
    "    print(f\"Start processing batch {i}\")\n",
    "    start = time.time()\n",
    "    sub_group = all_embeddings[i*1000:(i+1)*1000]\n",
    "    _, neighbors = nbrs.kneighbors(sub_group)\n",
    "    result.append(neighbors)\n",
    "    end = time.time()\n",
    "    print(f\"Finish processing batch {i}, time consumed {end - start}\")"
   ]
  },
  {
   "cell_type": "markdown",
   "id": "3e562f43",
   "metadata": {},
   "source": [
    "For the next step, we are going to retrieve the recommendations based on customer's purchase history in the past 7 days"
   ]
  },
  {
   "cell_type": "code",
   "execution_count": null,
   "id": "a008cdcf",
   "metadata": {},
   "outputs": [],
   "source": [
    "all_item_ids = []\n",
    "\n",
    "for dirname, _, filenames in os.walk('h-and-m-personalized-fashion-recommendations/images/'):\n",
    "    for filename in filenames:\n",
    "        tokens = filename.split('.')\n",
    "        all_item_ids.append(int(tokens[0]))"
   ]
  },
  {
   "cell_type": "code",
   "execution_count": null,
   "id": "0d6ae004",
   "metadata": {},
   "outputs": [],
   "source": [
    "all_transactions = pd.read_csv('h-and-m-personalized-fashion-recommendations/transactions_train.csv')"
   ]
  },
  {
   "cell_type": "code",
   "execution_count": null,
   "id": "f1fefb84",
   "metadata": {},
   "outputs": [],
   "source": [
    "purchase_list = all_transactions.groupby('customer_id')['article_id'].apply(list).reset_index(name='new')"
   ]
  },
  {
   "cell_type": "code",
   "execution_count": null,
   "id": "4f8e3b95",
   "metadata": {},
   "outputs": [],
   "source": [
    "embedding_neighbors = torch.load('embedding_neighbors.pt')\n",
    "\n",
    "article_id_to_embedding_neighbors_dict = {\n",
    "    article_id: neig for article_id, neig in zip(all_item_ids, embedding_neighbors)\n",
    "}"
   ]
  },
  {
   "cell_type": "code",
   "execution_count": null,
   "id": "c14f926b",
   "metadata": {},
   "outputs": [],
   "source": [
    "from collections import Counter\n",
    "\n",
    "customer_id_to_recommendations = {}\n",
    "\n",
    "for idx, row in purchase_list.iterrows():\n",
    "    if idx % 10000 == 0:\n",
    "        print(f\"Processing {idx} customer ...\")\n",
    "    \n",
    "    customer_id = row['customer_id']\n",
    "    purchased_articles = row[1]\n",
    "    \n",
    "    recommendation = {}\n",
    "    for article in purchased_articles:\n",
    "        if article in article_id_to_embedding_neighbors_dict:\n",
    "            for rec in article_id_to_embedding_neighbors_dict[article]:\n",
    "                if rec in purchased_articles:\n",
    "                    continue\n",
    "                if rec not in recommendation:\n",
    "                    recommendation[rec] = 0\n",
    "                recommendation[rec] += 1\n",
    "    \n",
    "    if idx % 10000 == 0:\n",
    "        print(f\"Find {len(recommendation)} new items for {customer_id}\")\n",
    "    \n",
    "    li = sorted(list(recommendation.items()), key=lambda x: x[1], reverse=True)\n",
    "    customer_id_to_recommendations[customer_id] = li[:12]\n"
   ]
  },
  {
   "cell_type": "code",
   "execution_count": 61,
   "id": "bac58958",
   "metadata": {},
   "outputs": [],
   "source": [
    "default = [(0, 0)] * 12"
   ]
  },
  {
   "cell_type": "code",
   "execution_count": 62,
   "id": "58221d0c",
   "metadata": {},
   "outputs": [],
   "source": [
    "for customer_id, rec in customer_id_to_recommendations.items():\n",
    "    if len(rec) == 0:\n",
    "        customer_id_to_recommendations[customer_id] = default"
   ]
  },
  {
   "cell_type": "code",
   "execution_count": 77,
   "id": "e17f621c",
   "metadata": {},
   "outputs": [],
   "source": [
    "customers = pd.read_csv('h-and-m-personalized-fashion-recommendations/customers.csv')\n",
    "customers = customers['customer_id']"
   ]
  },
  {
   "cell_type": "code",
   "execution_count": 80,
   "id": "5e610f8d",
   "metadata": {},
   "outputs": [],
   "source": [
    "customers = customers.to_list()"
   ]
  },
  {
   "cell_type": "code",
   "execution_count": 90,
   "id": "5e2537a8",
   "metadata": {},
   "outputs": [],
   "source": [
    "submission = {'customer_id': [], 'prediction': []}\n",
    "for customer in customers:\n",
    "    if customer in customer_id_to_recommendations:\n",
    "        rec = customer_id_to_recommendations[customer]\n",
    "        submission['customer_id'].append(customer)\n",
    "        prediction = [str(elem[0]) if type(elem) == tuple else str(elem) for elem in rec]\n",
    "        submission['prediction'].append(\" \".join(prediction))\n",
    "    else:\n",
    "        submission['customer_id'].append(customer)\n",
    "        submission['prediction'].append(\" \".join([\"0\"] * 12))"
   ]
  },
  {
   "cell_type": "code",
   "execution_count": 91,
   "id": "b903c9e5",
   "metadata": {},
   "outputs": [],
   "source": [
    "first_try = pd.DataFrame(submission)"
   ]
  },
  {
   "cell_type": "code",
   "execution_count": 92,
   "id": "67f2ff72",
   "metadata": {},
   "outputs": [
    {
     "data": {
      "text/html": [
       "<div>\n",
       "<style scoped>\n",
       "    .dataframe tbody tr th:only-of-type {\n",
       "        vertical-align: middle;\n",
       "    }\n",
       "\n",
       "    .dataframe tbody tr th {\n",
       "        vertical-align: top;\n",
       "    }\n",
       "\n",
       "    .dataframe thead th {\n",
       "        text-align: right;\n",
       "    }\n",
       "</style>\n",
       "<table border=\"1\" class=\"dataframe\">\n",
       "  <thead>\n",
       "    <tr style=\"text-align: right;\">\n",
       "      <th></th>\n",
       "      <th>customer_id</th>\n",
       "      <th>prediction</th>\n",
       "    </tr>\n",
       "  </thead>\n",
       "  <tbody>\n",
       "    <tr>\n",
       "      <th>0</th>\n",
       "      <td>00000dbacae5abe5e23885899a1fa44253a17956c6d1c3...</td>\n",
       "      <td>90388 87488 103826 101665 80061 92114 65185 71...</td>\n",
       "    </tr>\n",
       "    <tr>\n",
       "      <th>1</th>\n",
       "      <td>0000423b00ade91418cceaf3b26c6af3dd342b51fd051e...</td>\n",
       "      <td>63941 63604 43184 27208 50441 51046 38374 8582...</td>\n",
       "    </tr>\n",
       "    <tr>\n",
       "      <th>2</th>\n",
       "      <td>000058a12d5b43e67d225668fa1f8d618c13dc232df0ca...</td>\n",
       "      <td>53575 69399 78835 85927 25016 51833 76994 9107...</td>\n",
       "    </tr>\n",
       "    <tr>\n",
       "      <th>3</th>\n",
       "      <td>00005ca1c9ed5f5146b52ac8639a40ca9d57aeff4d1bd2...</td>\n",
       "      <td>56520 43352 39263 47324 78015 46737 3085 76201...</td>\n",
       "    </tr>\n",
       "    <tr>\n",
       "      <th>4</th>\n",
       "      <td>00006413d8573cd20ed7128e53b7b13819fe5cfc2d801f...</td>\n",
       "      <td>47816 8134 35324 59500 73519 104713 10712 3719...</td>\n",
       "    </tr>\n",
       "    <tr>\n",
       "      <th>...</th>\n",
       "      <td>...</td>\n",
       "      <td>...</td>\n",
       "    </tr>\n",
       "    <tr>\n",
       "      <th>1371975</th>\n",
       "      <td>ffffbbf78b6eaac697a8a5dfbfd2bfa8113ee5b403e474...</td>\n",
       "      <td>14549 48492 31273 71747 43042 12480 36711 5898...</td>\n",
       "    </tr>\n",
       "    <tr>\n",
       "      <th>1371976</th>\n",
       "      <td>ffffcd5046a6143d29a04fb8c424ce494a76e5cdf4fab5...</td>\n",
       "      <td>74331 88547 12622 22619 22881 20166 20078 7808...</td>\n",
       "    </tr>\n",
       "    <tr>\n",
       "      <th>1371977</th>\n",
       "      <td>ffffcf35913a0bee60e8741cb2b4e78b8a98ee5ff2e6a1...</td>\n",
       "      <td>3003 32365 5195 450 17702 44232 20802 408 3145...</td>\n",
       "    </tr>\n",
       "    <tr>\n",
       "      <th>1371978</th>\n",
       "      <td>ffffd7744cebcf3aca44ae7049d2a94b87074c3d4ffe38...</td>\n",
       "      <td>72063 79680 101934 99991 55519 76199 66658 102...</td>\n",
       "    </tr>\n",
       "    <tr>\n",
       "      <th>1371979</th>\n",
       "      <td>ffffd9ac14e89946416d80e791d064701994755c3ab686...</td>\n",
       "      <td>60815 48584 91690 88172 62801 72752 46751 1049...</td>\n",
       "    </tr>\n",
       "  </tbody>\n",
       "</table>\n",
       "<p>1371980 rows × 2 columns</p>\n",
       "</div>"
      ],
      "text/plain": [
       "                                               customer_id  \\\n",
       "0        00000dbacae5abe5e23885899a1fa44253a17956c6d1c3...   \n",
       "1        0000423b00ade91418cceaf3b26c6af3dd342b51fd051e...   \n",
       "2        000058a12d5b43e67d225668fa1f8d618c13dc232df0ca...   \n",
       "3        00005ca1c9ed5f5146b52ac8639a40ca9d57aeff4d1bd2...   \n",
       "4        00006413d8573cd20ed7128e53b7b13819fe5cfc2d801f...   \n",
       "...                                                    ...   \n",
       "1371975  ffffbbf78b6eaac697a8a5dfbfd2bfa8113ee5b403e474...   \n",
       "1371976  ffffcd5046a6143d29a04fb8c424ce494a76e5cdf4fab5...   \n",
       "1371977  ffffcf35913a0bee60e8741cb2b4e78b8a98ee5ff2e6a1...   \n",
       "1371978  ffffd7744cebcf3aca44ae7049d2a94b87074c3d4ffe38...   \n",
       "1371979  ffffd9ac14e89946416d80e791d064701994755c3ab686...   \n",
       "\n",
       "                                                prediction  \n",
       "0        90388 87488 103826 101665 80061 92114 65185 71...  \n",
       "1        63941 63604 43184 27208 50441 51046 38374 8582...  \n",
       "2        53575 69399 78835 85927 25016 51833 76994 9107...  \n",
       "3        56520 43352 39263 47324 78015 46737 3085 76201...  \n",
       "4        47816 8134 35324 59500 73519 104713 10712 3719...  \n",
       "...                                                    ...  \n",
       "1371975  14549 48492 31273 71747 43042 12480 36711 5898...  \n",
       "1371976  74331 88547 12622 22619 22881 20166 20078 7808...  \n",
       "1371977  3003 32365 5195 450 17702 44232 20802 408 3145...  \n",
       "1371978  72063 79680 101934 99991 55519 76199 66658 102...  \n",
       "1371979  60815 48584 91690 88172 62801 72752 46751 1049...  \n",
       "\n",
       "[1371980 rows x 2 columns]"
      ]
     },
     "execution_count": 92,
     "metadata": {},
     "output_type": "execute_result"
    }
   ],
   "source": [
    "first_try"
   ]
  },
  {
   "cell_type": "code",
   "execution_count": 93,
   "id": "513a9d30",
   "metadata": {},
   "outputs": [],
   "source": [
    "first_try.to_csv('first_submission.csv', index=False)"
   ]
  }
 ],
 "metadata": {
  "kernelspec": {
   "display_name": "Python 3 (ipykernel)",
   "language": "python",
   "name": "python3"
  },
  "language_info": {
   "codemirror_mode": {
    "name": "ipython",
    "version": 3
   },
   "file_extension": ".py",
   "mimetype": "text/x-python",
   "name": "python",
   "nbconvert_exporter": "python",
   "pygments_lexer": "ipython3",
   "version": "3.9.7"
  }
 },
 "nbformat": 4,
 "nbformat_minor": 5
}
