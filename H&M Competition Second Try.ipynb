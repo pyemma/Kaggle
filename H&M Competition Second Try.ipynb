{
 "cells": [
  {
   "cell_type": "code",
   "execution_count": null,
   "id": "511d6d98",
   "metadata": {},
   "outputs": [],
   "source": [
    "import numpy as np\n",
    "import pandas as pd\n",
    "import time\n",
    "import pickle\n",
    "\n",
    "from collections import Counter"
   ]
  },
  {
   "cell_type": "code",
   "execution_count": null,
   "id": "3cb24d7c",
   "metadata": {},
   "outputs": [],
   "source": [
    "train = pd.read_csv(\"h-and-m-personalized-fashion-recommendations/transactions_train.csv\")"
   ]
  },
  {
   "cell_type": "code",
   "execution_count": null,
   "id": "1c0cac97",
   "metadata": {},
   "outputs": [],
   "source": [
    "train['customer_id'] = train['customer_id'].str[-16:].apply(lambda x: int(x, 16)).astype('int64')\n",
    "train['article_id'] = train.article_id.astype('int32')\n",
    "train.t_dat = pd.to_datetime(train.t_dat)\n",
    "train = train[['t_dat','customer_id','article_id']]"
   ]
  },
  {
   "cell_type": "code",
   "execution_count": null,
   "id": "eae7990d",
   "metadata": {},
   "outputs": [],
   "source": [
    "train.head()"
   ]
  },
  {
   "cell_type": "code",
   "execution_count": null,
   "id": "691dc425",
   "metadata": {},
   "outputs": [],
   "source": [
    "agg_articles = sub_train.groupby('customer_id')['article_id'].apply(list).reset_index(name='agg_articles')"
   ]
  },
  {
   "cell_type": "code",
   "execution_count": null,
   "id": "52cb04d1",
   "metadata": {},
   "outputs": [],
   "source": [
    "cnt = Counter()\n",
    "\n",
    "for _, row in agg_articles.iterrows():    \n",
    "    articles = row['agg_articles']\n",
    "    for i in range(0, len(articles) - 1):\n",
    "        for j in range(i+1, len(articles)):\n",
    "            a1, a2 = articles[i], articles[j]\n",
    "            if a1 not in cnt:\n",
    "                cnt[a1] = Counter()\n",
    "            if a2 not in cnt:\n",
    "                cnt[a2] = Counter()\n",
    "            \n",
    "            cnt[a1][a2] += 1\n",
    "            cnt[a2][a1] += 1"
   ]
  },
  {
   "cell_type": "code",
   "execution_count": null,
   "id": "cc1be7c4",
   "metadata": {},
   "outputs": [],
   "source": [
    "most_common_purchase = {}\n",
    "\n",
    "for a1, articles in cnt.items():\n",
    "    li = [(i, j) for (i, j) in articles.items()]\n",
    "    li = sorted(li, key=lambda x: x[1], reverse=True)\n",
    "    \n",
    "    li = li[: min(len(li), 7)]\n",
    "    \n",
    "    most_common_purchase[a1] = li\n",
    "    \n",
    "most_common_purchase"
   ]
  },
  {
   "cell_type": "markdown",
   "id": "9dbe3a5c",
   "metadata": {},
   "source": [
    "In the below cells, we compute the frequent item that is commonly purchased together"
   ]
  },
  {
   "cell_type": "code",
   "execution_count": null,
   "id": "d09fd8bf",
   "metadata": {},
   "outputs": [],
   "source": [
    "agg_total = train.groupby('customer_id')['article_id'].apply(list).reset_index(name='agg_articles')"
   ]
  },
  {
   "cell_type": "code",
   "execution_count": null,
   "id": "e0cf93e6",
   "metadata": {},
   "outputs": [],
   "source": [
    "cnt = Counter()\n",
    "start = time.time()\n",
    "\n",
    "for idx, row in agg_total.iterrows():\n",
    "    articles = row['agg_articles']\n",
    "    for i in range(0, len(articles) - 1):\n",
    "        for j in range(i+1, len(articles)):\n",
    "            a1, a2 = articles[i], articles[j]\n",
    "            if a1 not in cnt:\n",
    "                cnt[a1] = Counter()\n",
    "            if a2 not in cnt:\n",
    "                cnt[a2] = Counter()\n",
    "            \n",
    "            cnt[a1][a2] += 1\n",
    "            cnt[a2][a1] += 1\n",
    "    \n",
    "    if idx % 10000 == 0:\n",
    "        end = time.time()\n",
    "        print(f\"Row {idx} processed\")\n",
    "        print(f\"Time passed {end - start}\")\n",
    "        print(f\"Current size of the cnt {len(cnt)}\")\n",
    "        start = time.time()"
   ]
  },
  {
   "cell_type": "code",
   "execution_count": null,
   "id": "4913695b",
   "metadata": {},
   "outputs": [],
   "source": [
    "import pickle\n",
    "\n",
    "with open('most_common_purchase.pkl', 'wb') as file:\n",
    "    pickle.dump(most_common_purchase_new, file)"
   ]
  },
  {
   "cell_type": "code",
   "execution_count": null,
   "id": "db2e18c2",
   "metadata": {},
   "outputs": [],
   "source": [
    "with open('most_common_purchase.pkl', 'rb') as file:\n",
    "    res = pickle.load(file)"
   ]
  },
  {
   "cell_type": "code",
   "execution_count": null,
   "id": "bf316374",
   "metadata": {},
   "outputs": [],
   "source": [
    "most_common_purchase = {}\n",
    "\n",
    "for a1, articles in cnt.items():\n",
    "    li = [(i, j) for (i, j) in articles.items()]\n",
    "    li = sorted(li, key=lambda x: x[1], reverse=True)\n",
    "    \n",
    "    li = li[: min(len(li), 3)]\n",
    "    \n",
    "    most_common_purchase[a1] = li"
   ]
  },
  {
   "cell_type": "markdown",
   "id": "ed4e785a",
   "metadata": {},
   "source": [
    "In the below cells, we compute the last purchased item from last week"
   ]
  },
  {
   "cell_type": "code",
   "execution_count": null,
   "id": "6192468c",
   "metadata": {},
   "outputs": [],
   "source": [
    "tmp = train.groupby('customer_id').t_dat.max().reset_index()\n",
    "tmp.columns = ['customer_id', 'max_dat']\n",
    "train = train.merge(tmp, on=['customer_id'], how='left')\n",
    "# train['diff_dat'] = (train.max_dat - train.t_dat).dt.days\n",
    "# sub_train = sub_train.loc[sub_train['diff_dat'] <= 6]"
   ]
  },
  {
   "cell_type": "code",
   "execution_count": null,
   "id": "1b6b5bb4",
   "metadata": {},
   "outputs": [],
   "source": [
    "train['diff_dat'] = (train.max_dat - train.t_dat).dt.days"
   ]
  },
  {
   "cell_type": "code",
   "execution_count": null,
   "id": "0df9d9b0",
   "metadata": {},
   "outputs": [],
   "source": [
    "last_week_purchase = train.loc[train['diff_dat'] <= 6]"
   ]
  },
  {
   "cell_type": "code",
   "execution_count": null,
   "id": "ad625696",
   "metadata": {},
   "outputs": [],
   "source": [
    "last_week_purchase"
   ]
  },
  {
   "cell_type": "code",
   "execution_count": null,
   "id": "d6e4bda4",
   "metadata": {},
   "outputs": [],
   "source": [
    "last_week_purchase_agg = last_week_purchase.groupby('customer_id')['article_id'].apply(list).reset_index(name='agg_articles')"
   ]
  },
  {
   "cell_type": "code",
   "execution_count": null,
   "id": "50138669",
   "metadata": {},
   "outputs": [],
   "source": [
    "last_week_purchase_count = last_week_purchase.groupby('article_id').size().reset_index(name='count')"
   ]
  },
  {
   "cell_type": "code",
   "execution_count": null,
   "id": "e8b414fa",
   "metadata": {},
   "outputs": [],
   "source": [
    "last_week_top = last_week_purchase_count.sort_values(by=['count'], ascending=False)[:20]['article_id'].to_list()"
   ]
  },
  {
   "cell_type": "code",
   "execution_count": null,
   "id": "f1bd579d",
   "metadata": {},
   "outputs": [],
   "source": [
    "customers = pd.read_csv('h-and-m-personalized-fashion-recommendations/customers.csv')\n",
    "customers = customers['customer_id'].str[-16:].apply(lambda x: int(x, 16)).astype('int64')\n",
    "customers = customers.to_list()"
   ]
  },
  {
   "cell_type": "code",
   "execution_count": 114,
   "id": "26b0dc64",
   "metadata": {},
   "outputs": [
    {
     "name": "stdout",
     "output_type": "stream",
     "text": [
      "Processed 0 customers\n",
      "Processed 10000 customers\n",
      "Processed 20000 customers\n",
      "Processed 30000 customers\n",
      "Processed 40000 customers\n",
      "Processed 50000 customers\n",
      "Processed 60000 customers\n",
      "Processed 70000 customers\n",
      "Processed 80000 customers\n",
      "Processed 90000 customers\n",
      "Processed 100000 customers\n",
      "Processed 110000 customers\n",
      "Processed 120000 customers\n",
      "Processed 130000 customers\n",
      "Processed 140000 customers\n",
      "Processed 150000 customers\n",
      "Processed 160000 customers\n",
      "Processed 170000 customers\n",
      "Processed 180000 customers\n",
      "Processed 190000 customers\n",
      "Processed 200000 customers\n",
      "Processed 210000 customers\n",
      "Processed 220000 customers\n",
      "Processed 230000 customers\n",
      "Processed 240000 customers\n",
      "Processed 250000 customers\n",
      "Processed 260000 customers\n",
      "Processed 270000 customers\n",
      "Processed 280000 customers\n",
      "Processed 290000 customers\n",
      "Processed 300000 customers\n",
      "Processed 310000 customers\n",
      "Processed 320000 customers\n",
      "Processed 330000 customers\n",
      "Processed 340000 customers\n",
      "Processed 350000 customers\n",
      "Processed 360000 customers\n",
      "Processed 370000 customers\n",
      "Processed 380000 customers\n",
      "Processed 390000 customers\n",
      "Processed 400000 customers\n",
      "Processed 410000 customers\n",
      "Processed 420000 customers\n",
      "Processed 430000 customers\n",
      "Processed 440000 customers\n",
      "Processed 450000 customers\n",
      "Processed 460000 customers\n",
      "Processed 470000 customers\n",
      "Processed 480000 customers\n",
      "Processed 490000 customers\n",
      "Processed 500000 customers\n",
      "Processed 510000 customers\n",
      "Processed 520000 customers\n",
      "Processed 530000 customers\n",
      "Processed 540000 customers\n",
      "Processed 550000 customers\n",
      "Processed 560000 customers\n",
      "Processed 570000 customers\n",
      "Processed 580000 customers\n",
      "Processed 590000 customers\n",
      "Processed 600000 customers\n",
      "Processed 610000 customers\n",
      "Processed 620000 customers\n",
      "Processed 630000 customers\n",
      "Processed 640000 customers\n",
      "Processed 650000 customers\n",
      "Processed 660000 customers\n",
      "Processed 670000 customers\n",
      "Processed 680000 customers\n",
      "Processed 690000 customers\n",
      "Processed 700000 customers\n",
      "Processed 710000 customers\n",
      "Processed 720000 customers\n",
      "Processed 730000 customers\n",
      "Processed 740000 customers\n",
      "Processed 750000 customers\n",
      "Processed 760000 customers\n",
      "Processed 770000 customers\n",
      "Processed 780000 customers\n",
      "Processed 790000 customers\n",
      "Processed 800000 customers\n",
      "Processed 810000 customers\n",
      "Processed 820000 customers\n",
      "Processed 830000 customers\n",
      "Processed 840000 customers\n",
      "Processed 850000 customers\n",
      "Processed 860000 customers\n",
      "Processed 870000 customers\n",
      "Processed 880000 customers\n",
      "Processed 890000 customers\n",
      "Processed 900000 customers\n",
      "Processed 910000 customers\n",
      "Processed 920000 customers\n",
      "Processed 930000 customers\n",
      "Processed 940000 customers\n",
      "Processed 950000 customers\n",
      "Processed 960000 customers\n",
      "Processed 970000 customers\n",
      "Processed 980000 customers\n",
      "Processed 990000 customers\n",
      "Processed 1000000 customers\n",
      "Processed 1010000 customers\n",
      "Processed 1020000 customers\n",
      "Processed 1030000 customers\n",
      "Processed 1040000 customers\n",
      "Processed 1050000 customers\n",
      "Processed 1060000 customers\n",
      "Processed 1070000 customers\n",
      "Processed 1080000 customers\n",
      "Processed 1090000 customers\n",
      "Processed 1100000 customers\n",
      "Processed 1110000 customers\n",
      "Processed 1120000 customers\n",
      "Processed 1130000 customers\n",
      "Processed 1140000 customers\n",
      "Processed 1150000 customers\n",
      "Processed 1160000 customers\n",
      "Processed 1170000 customers\n",
      "Processed 1180000 customers\n",
      "Processed 1190000 customers\n",
      "Processed 1200000 customers\n",
      "Processed 1210000 customers\n",
      "Processed 1220000 customers\n",
      "Processed 1230000 customers\n",
      "Processed 1240000 customers\n",
      "Processed 1250000 customers\n",
      "Processed 1260000 customers\n",
      "Processed 1270000 customers\n",
      "Processed 1280000 customers\n",
      "Processed 1290000 customers\n",
      "Processed 1300000 customers\n",
      "Processed 1310000 customers\n",
      "Processed 1320000 customers\n",
      "Processed 1330000 customers\n",
      "Processed 1340000 customers\n",
      "Processed 1350000 customers\n",
      "Processed 1360000 customers\n",
      "Processed 1370000 customers\n"
     ]
    }
   ],
   "source": [
    "predictions = []\n",
    "\n",
    "for idx, customer in enumerate(customers):\n",
    "    ans = []\n",
    "    p = last_week_purchase_agg[last_week_purchase_agg['customer_id'] == customer]\n",
    "    if p.size:\n",
    "        articles = p['agg_articles'].to_list()[0]\n",
    "        tmp = []\n",
    "        for article in articles:\n",
    "            tmp.extend(most_common_purchase.get(article, []))\n",
    "        tmp = sorted(tmp, key=lambda x: x[1], reverse=True)\n",
    "        tmp = tmp[:min(len(tmp), 12)]\n",
    "        ans.extend([elem[0] for elem in tmp])\n",
    "    \n",
    "    if len(ans) < 12:\n",
    "        diff = 12 - len(ans)\n",
    "        for item in most_popular_all_time:\n",
    "            if item not in ans:\n",
    "                ans.append(item)\n",
    "                diff -= 1\n",
    "                if diff <= 0:\n",
    "                    break\n",
    "    \n",
    "    predictions.append(ans)\n",
    "    \n",
    "    if idx % 10000 == 0:\n",
    "        print(f\"Processed {idx} customers\")\n",
    "            "
   ]
  },
  {
   "cell_type": "code",
   "execution_count": 115,
   "id": "3eaec8f1",
   "metadata": {},
   "outputs": [],
   "source": [
    "reformat_predictions = [[str(v) for v in elem] for elem in predictions]"
   ]
  },
  {
   "cell_type": "code",
   "execution_count": 105,
   "id": "45be6636",
   "metadata": {},
   "outputs": [
    {
     "ename": "TypeError",
     "evalue": "sequence item 0: expected str instance, int found",
     "output_type": "error",
     "traceback": [
      "\u001b[0;31m---------------------------------------------------------------------------\u001b[0m",
      "\u001b[0;31mTypeError\u001b[0m                                 Traceback (most recent call last)",
      "\u001b[0;32m/var/folders/m5/83hxq45d10bb_n93lz2607qc0000gn/T/ipykernel_2637/2543725020.py\u001b[0m in \u001b[0;36m<module>\u001b[0;34m\u001b[0m\n\u001b[1;32m      6\u001b[0m \u001b[0;34m\u001b[0m\u001b[0m\n\u001b[1;32m      7\u001b[0m \u001b[0msubmission\u001b[0m\u001b[0;34m[\u001b[0m\u001b[0;34m'customer_id'\u001b[0m\u001b[0;34m]\u001b[0m \u001b[0;34m=\u001b[0m \u001b[0mcustomers\u001b[0m\u001b[0;34m\u001b[0m\u001b[0;34m\u001b[0m\u001b[0m\n\u001b[0;32m----> 8\u001b[0;31m \u001b[0msubmission\u001b[0m\u001b[0;34m[\u001b[0m\u001b[0;34m'prediction'\u001b[0m\u001b[0;34m]\u001b[0m \u001b[0;34m=\u001b[0m \u001b[0;34m[\u001b[0m\u001b[0;34m\" \"\u001b[0m\u001b[0;34m.\u001b[0m\u001b[0mjoin\u001b[0m\u001b[0;34m(\u001b[0m\u001b[0melem\u001b[0m\u001b[0;34m)\u001b[0m \u001b[0;32mfor\u001b[0m \u001b[0melem\u001b[0m \u001b[0;32min\u001b[0m \u001b[0mpredictions\u001b[0m\u001b[0;34m]\u001b[0m\u001b[0;34m\u001b[0m\u001b[0;34m\u001b[0m\u001b[0m\n\u001b[0m",
      "\u001b[0;32m/var/folders/m5/83hxq45d10bb_n93lz2607qc0000gn/T/ipykernel_2637/2543725020.py\u001b[0m in \u001b[0;36m<listcomp>\u001b[0;34m(.0)\u001b[0m\n\u001b[1;32m      6\u001b[0m \u001b[0;34m\u001b[0m\u001b[0m\n\u001b[1;32m      7\u001b[0m \u001b[0msubmission\u001b[0m\u001b[0;34m[\u001b[0m\u001b[0;34m'customer_id'\u001b[0m\u001b[0;34m]\u001b[0m \u001b[0;34m=\u001b[0m \u001b[0mcustomers\u001b[0m\u001b[0;34m\u001b[0m\u001b[0;34m\u001b[0m\u001b[0m\n\u001b[0;32m----> 8\u001b[0;31m \u001b[0msubmission\u001b[0m\u001b[0;34m[\u001b[0m\u001b[0;34m'prediction'\u001b[0m\u001b[0;34m]\u001b[0m \u001b[0;34m=\u001b[0m \u001b[0;34m[\u001b[0m\u001b[0;34m\" \"\u001b[0m\u001b[0;34m.\u001b[0m\u001b[0mjoin\u001b[0m\u001b[0;34m(\u001b[0m\u001b[0melem\u001b[0m\u001b[0;34m)\u001b[0m \u001b[0;32mfor\u001b[0m \u001b[0melem\u001b[0m \u001b[0;32min\u001b[0m \u001b[0mpredictions\u001b[0m\u001b[0;34m]\u001b[0m\u001b[0;34m\u001b[0m\u001b[0;34m\u001b[0m\u001b[0m\n\u001b[0m",
      "\u001b[0;31mTypeError\u001b[0m: sequence item 0: expected str instance, int found"
     ]
    }
   ],
   "source": [
    "customers = pd.read_csv('h-and-m-personalized-fashion-recommendations/customers.csv')\n",
    "customers = customers['customer_id']\n",
    "customers = customers.to_list()\n",
    "\n",
    "submission = {'customer_id': [], 'prediction': []}\n",
    "\n",
    "submission['customer_id'] = customers\n",
    "submission['prediction'] = [\" \".join(elem) for elem in reformat_predictions]"
   ]
  },
  {
   "cell_type": "code",
   "execution_count": 116,
   "id": "dc7a1f6e",
   "metadata": {},
   "outputs": [],
   "source": [
    "submission['customer_id'] = customers\n",
    "submission['prediction'] = [\" \".join(elem) for elem in reformat_predictions]"
   ]
  },
  {
   "cell_type": "code",
   "execution_count": 109,
   "id": "50575a8c",
   "metadata": {},
   "outputs": [],
   "source": [
    "second_try = pd.DataFrame(submission)"
   ]
  },
  {
   "cell_type": "code",
   "execution_count": 117,
   "id": "93fe2451",
   "metadata": {},
   "outputs": [],
   "source": [
    "second_try.to_csv('second_submission.csv', index=False)"
   ]
  },
  {
   "cell_type": "code",
   "execution_count": null,
   "id": "87506a74",
   "metadata": {},
   "outputs": [],
   "source": [
    "counter = {}\n",
    "\n",
    "for _, val in res.items():\n",
    "    for elem, cnt in val:\n",
    "        if elem not in counter:\n",
    "            counter[elem] = 0\n",
    "        counter[elem] += cnt\n",
    "\n",
    "total_cnt = list(counter.items())\n",
    "total_cnt = sorted(total_cnt, key=lambda x: x[1], reverse=True)"
   ]
  },
  {
   "cell_type": "code",
   "execution_count": 113,
   "id": "4f9eb502",
   "metadata": {},
   "outputs": [],
   "source": [
    "most_popular_all_time = [elem[0] for elem in total_cnt[:20]]"
   ]
  }
 ],
 "metadata": {
  "kernelspec": {
   "display_name": "Python 3 (ipykernel)",
   "language": "python",
   "name": "python3"
  },
  "language_info": {
   "codemirror_mode": {
    "name": "ipython",
    "version": 3
   },
   "file_extension": ".py",
   "mimetype": "text/x-python",
   "name": "python",
   "nbconvert_exporter": "python",
   "pygments_lexer": "ipython3",
   "version": "3.9.7"
  }
 },
 "nbformat": 4,
 "nbformat_minor": 5
}
