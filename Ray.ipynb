{
 "cells": [
  {
   "cell_type": "code",
   "execution_count": 1,
   "id": "43dcce2e",
   "metadata": {},
   "outputs": [
    {
     "name": "stderr",
     "output_type": "stream",
     "text": [
      "2023-03-01 22:09:47,502\tINFO services.py:1338 -- View the Ray dashboard at \u001b[1m\u001b[32mhttp://127.0.0.1:8265\u001b[39m\u001b[22m\n"
     ]
    },
    {
     "data": {
      "text/plain": [
       "{'node_ip_address': '127.0.0.1',\n",
       " 'raylet_ip_address': '127.0.0.1',\n",
       " 'redis_address': '127.0.0.1:6379',\n",
       " 'object_store_address': '/tmp/ray/session_2023-03-01_22-09-40_571050_26127/sockets/plasma_store',\n",
       " 'raylet_socket_name': '/tmp/ray/session_2023-03-01_22-09-40_571050_26127/sockets/raylet',\n",
       " 'webui_url': '127.0.0.1:8265',\n",
       " 'session_dir': '/tmp/ray/session_2023-03-01_22-09-40_571050_26127',\n",
       " 'metrics_export_port': 57927,\n",
       " 'node_id': '0dc723e30fd75288fc63da4fe1ec223b9269ca643e27efa14e63e769'}"
      ]
     },
     "execution_count": 1,
     "metadata": {},
     "output_type": "execute_result"
    }
   ],
   "source": [
    "import ray\n",
    "ray.init()"
   ]
  },
  {
   "cell_type": "code",
   "execution_count": 7,
   "id": "d577bc10",
   "metadata": {},
   "outputs": [
    {
     "name": "stdout",
     "output_type": "stream",
     "text": [
      "2.1255509853363037\n"
     ]
    }
   ],
   "source": [
    "import time\n",
    "\n",
    "database = [\"A\", \"B\", \"C\", \"D\", \"E\", \"F\", \"G\"]\n",
    "\n",
    "def retrieve(item):\n",
    "    time.sleep(item / 10.)\n",
    "    return item, database[item]\n",
    "\n",
    "start = time.time()\n",
    "data = [retrieve(item) for item in range(len(database))]\n",
    "end = time.time()\n",
    "print(end - start)"
   ]
  },
  {
   "cell_type": "code",
   "execution_count": 11,
   "id": "796a5c2e",
   "metadata": {},
   "outputs": [
    {
     "name": "stdout",
     "output_type": "stream",
     "text": [
      "0.6156361103057861\n"
     ]
    }
   ],
   "source": [
    "database_object_ref = ray.put(database)\n",
    "\n",
    "@ray.remote\n",
    "def retrieve_task(item):\n",
    "    database = ray.get(database_object_ref)\n",
    "    time.sleep(item / 10.)\n",
    "    return item, database[item]\n",
    "\n",
    "start = time.time()\n",
    "data_ref = [retrieve_task.remote(item) for item in range(len(database))]\n",
    "data = ray.get(data_ref)\n",
    "end = time.time()\n",
    "print(end - start)"
   ]
  },
  {
   "cell_type": "code",
   "execution_count": 15,
   "id": "581b71c0",
   "metadata": {},
   "outputs": [
    {
     "name": "stdout",
     "output_type": "stream",
     "text": [
      "((0, 'A'), (1, 'B'))\n"
     ]
    }
   ],
   "source": [
    "@ray.remote\n",
    "def follow_up_task(retrieve_result):\n",
    "    original_item, _ = retrieve_result\n",
    "    follow_up_result = retrieve(original_item + 1)\n",
    "    return retrieve_result, follow_up_result\n",
    "\n",
    "ref1 = retrieve_task.remote(0)\n",
    "ref2 = follow_up_task.remote(ref1)\n",
    "\n",
    "print(ray.get(ref2))"
   ]
  }
 ],
 "metadata": {
  "kernelspec": {
   "display_name": "Python 3 (ipykernel)",
   "language": "python",
   "name": "python3"
  },
  "language_info": {
   "codemirror_mode": {
    "name": "ipython",
    "version": 3
   },
   "file_extension": ".py",
   "mimetype": "text/x-python",
   "name": "python",
   "nbconvert_exporter": "python",
   "pygments_lexer": "ipython3",
   "version": "3.9.7"
  }
 },
 "nbformat": 4,
 "nbformat_minor": 5
}
